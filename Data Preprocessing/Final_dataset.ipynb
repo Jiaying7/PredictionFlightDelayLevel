{
 "cells": [
  {
   "cell_type": "code",
   "execution_count": 12,
   "id": "0b6f6f69",
   "metadata": {},
   "outputs": [],
   "source": [
    "import pandas as pd\n",
    "import numpy as np"
   ]
  },
  {
   "cell_type": "code",
   "execution_count": 13,
   "id": "e4e02e16",
   "metadata": {},
   "outputs": [],
   "source": [
    "#Combining monthly data at once\n",
    "data_2018 = pd.read_csv(\"/Users/nakyungkim/Desktop/flight/2018/flight_2018.csv\")\n",
    "data_2019 = pd.read_csv(\"/Users/nakyungkim/Desktop/flight/2019/flight_2019.csv\")\n",
    "data_2020 = pd.read_csv(\"/Users/nakyungkim/Desktop/flight/2020/flight_2020.csv\")\n",
    "data_2021 = pd.read_csv(\"/Users/nakyungkim/Desktop/flight/2021/flight_2021.csv\")\n",
    "data_2022 = pd.read_csv(\"/Users/nakyungkim/Desktop/flight/2022/flight_2022.csv\")\n",
    "data_2023 = pd.read_csv(\"/Users/nakyungkim/Desktop/flight/2023/flight_2023.csv\")\n",
    "\n"
   ]
  },
  {
   "cell_type": "code",
   "execution_count": 18,
   "id": "2c219759",
   "metadata": {
    "scrolled": false
   },
   "outputs": [
    {
     "data": {
      "text/html": [
       "<div>\n",
       "<style scoped>\n",
       "    .dataframe tbody tr th:only-of-type {\n",
       "        vertical-align: middle;\n",
       "    }\n",
       "\n",
       "    .dataframe tbody tr th {\n",
       "        vertical-align: top;\n",
       "    }\n",
       "\n",
       "    .dataframe thead th {\n",
       "        text-align: right;\n",
       "    }\n",
       "</style>\n",
       "<table border=\"1\" class=\"dataframe\">\n",
       "  <thead>\n",
       "    <tr style=\"text-align: right;\">\n",
       "      <th></th>\n",
       "      <th>FL_DATE</th>\n",
       "      <th>OP_CARRIER</th>\n",
       "      <th>ORIGIN_CITY_NAME</th>\n",
       "      <th>CRS_DEP_TIME</th>\n",
       "      <th>DEP_TIME</th>\n",
       "      <th>DEP_DELAY</th>\n",
       "      <th>FLIGHT_DELAY_LEVEL</th>\n",
       "    </tr>\n",
       "  </thead>\n",
       "  <tbody>\n",
       "    <tr>\n",
       "      <th>3678854</th>\n",
       "      <td>2023-12-31</td>\n",
       "      <td>WN</td>\n",
       "      <td>New York</td>\n",
       "      <td>1840</td>\n",
       "      <td>1911.0</td>\n",
       "      <td>31.0</td>\n",
       "      <td>1</td>\n",
       "    </tr>\n",
       "    <tr>\n",
       "      <th>3678855</th>\n",
       "      <td>2023-12-31</td>\n",
       "      <td>WN</td>\n",
       "      <td>New York</td>\n",
       "      <td>1855</td>\n",
       "      <td>1900.0</td>\n",
       "      <td>5.0</td>\n",
       "      <td>0</td>\n",
       "    </tr>\n",
       "    <tr>\n",
       "      <th>3678856</th>\n",
       "      <td>2023-12-31</td>\n",
       "      <td>WN</td>\n",
       "      <td>New York</td>\n",
       "      <td>2000</td>\n",
       "      <td>2040.0</td>\n",
       "      <td>40.0</td>\n",
       "      <td>1</td>\n",
       "    </tr>\n",
       "    <tr>\n",
       "      <th>3678857</th>\n",
       "      <td>2023-12-31</td>\n",
       "      <td>WN</td>\n",
       "      <td>New York</td>\n",
       "      <td>2015</td>\n",
       "      <td>2046.0</td>\n",
       "      <td>31.0</td>\n",
       "      <td>1</td>\n",
       "    </tr>\n",
       "    <tr>\n",
       "      <th>3678858</th>\n",
       "      <td>2023-12-31</td>\n",
       "      <td>WN</td>\n",
       "      <td>New York</td>\n",
       "      <td>2100</td>\n",
       "      <td>2142.0</td>\n",
       "      <td>42.0</td>\n",
       "      <td>1</td>\n",
       "    </tr>\n",
       "  </tbody>\n",
       "</table>\n",
       "</div>"
      ],
      "text/plain": [
       "            FL_DATE OP_CARRIER ORIGIN_CITY_NAME  CRS_DEP_TIME  DEP_TIME  \\\n",
       "3678854  2023-12-31         WN         New York          1840    1911.0   \n",
       "3678855  2023-12-31         WN         New York          1855    1900.0   \n",
       "3678856  2023-12-31         WN         New York          2000    2040.0   \n",
       "3678857  2023-12-31         WN         New York          2015    2046.0   \n",
       "3678858  2023-12-31         WN         New York          2100    2142.0   \n",
       "\n",
       "         DEP_DELAY  FLIGHT_DELAY_LEVEL  \n",
       "3678854       31.0                   1  \n",
       "3678855        5.0                   0  \n",
       "3678856       40.0                   1  \n",
       "3678857       31.0                   1  \n",
       "3678858       42.0                   1  "
      ]
     },
     "execution_count": 18,
     "metadata": {},
     "output_type": "execute_result"
    }
   ],
   "source": [
    "flight = pd.concat([data_2018,data_2019,data_2020,data_2021,data_2022,data_2023], ignore_index=True)\n",
    "\n",
    "flight.tail()"
   ]
  },
  {
   "cell_type": "code",
   "execution_count": 15,
   "id": "83c6eefa",
   "metadata": {},
   "outputs": [
    {
     "data": {
      "text/plain": [
       "FL_DATE               0\n",
       "OP_CARRIER            0\n",
       "ORIGIN_CITY_NAME      0\n",
       "CRS_DEP_TIME          0\n",
       "DEP_TIME              0\n",
       "DEP_DELAY             0\n",
       "FLIGHT_DELAY_LEVEL    0\n",
       "dtype: int64"
      ]
     },
     "execution_count": 15,
     "metadata": {},
     "output_type": "execute_result"
    }
   ],
   "source": [
    "# Count the NaN values\n",
    "flight.isna().sum()"
   ]
  },
  {
   "cell_type": "code",
   "execution_count": 19,
   "id": "66b36856",
   "metadata": {},
   "outputs": [
    {
     "data": {
      "text/plain": [
       "(3678859, 7)"
      ]
     },
     "execution_count": 19,
     "metadata": {},
     "output_type": "execute_result"
    }
   ],
   "source": [
    "flight.shape"
   ]
  },
  {
   "cell_type": "code",
   "execution_count": 16,
   "id": "39c7f51e",
   "metadata": {
    "scrolled": true
   },
   "outputs": [
    {
     "name": "stdout",
     "output_type": "stream",
     "text": [
      "<class 'pandas.core.frame.DataFrame'>\n",
      "RangeIndex: 3678859 entries, 0 to 3678858\n",
      "Data columns (total 7 columns):\n",
      " #   Column              Dtype  \n",
      "---  ------              -----  \n",
      " 0   FL_DATE             object \n",
      " 1   OP_CARRIER          object \n",
      " 2   ORIGIN_CITY_NAME    object \n",
      " 3   CRS_DEP_TIME        int64  \n",
      " 4   DEP_TIME            float64\n",
      " 5   DEP_DELAY           float64\n",
      " 6   FLIGHT_DELAY_LEVEL  int64  \n",
      "dtypes: float64(2), int64(2), object(3)\n",
      "memory usage: 196.5+ MB\n"
     ]
    }
   ],
   "source": [
    "flight.info()"
   ]
  },
  {
   "cell_type": "code",
   "execution_count": 17,
   "id": "6629b1a8",
   "metadata": {},
   "outputs": [],
   "source": [
    "flight.to_csv('flight_total.csv', index=False)"
   ]
  },
  {
   "cell_type": "code",
   "execution_count": null,
   "id": "ba9385b0",
   "metadata": {},
   "outputs": [],
   "source": []
  }
 ],
 "metadata": {
  "kernelspec": {
   "display_name": "Python 3 (ipykernel)",
   "language": "python",
   "name": "python3"
  },
  "language_info": {
   "codemirror_mode": {
    "name": "ipython",
    "version": 3
   },
   "file_extension": ".py",
   "mimetype": "text/x-python",
   "name": "python",
   "nbconvert_exporter": "python",
   "pygments_lexer": "ipython3",
   "version": "3.8.16"
  }
 },
 "nbformat": 4,
 "nbformat_minor": 5
}
